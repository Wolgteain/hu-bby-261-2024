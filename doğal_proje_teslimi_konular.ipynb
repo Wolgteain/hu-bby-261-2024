{
  "nbformat": 4,
  "nbformat_minor": 0,
  "metadata": {
    "colab": {
      "provenance": [],
      "authorship_tag": "ABX9TyOAfX/O1XRYQtmxogk1uY9I",
      "include_colab_link": true
    },
    "kernelspec": {
      "name": "python3",
      "display_name": "Python 3"
    },
    "language_info": {
      "name": "python"
    }
  },
  "cells": [
    {
      "cell_type": "markdown",
      "metadata": {
        "id": "view-in-github",
        "colab_type": "text"
      },
      "source": [
        "<a href=\"https://colab.research.google.com/github/Wolgteain/hu-bby-261-2024/blob/main/do%C4%9Fal_proje_teslimi_konular.ipynb\" target=\"_parent\"><img src=\"https://colab.research.google.com/assets/colab-badge.svg\" alt=\"Open In Colab\"/></a>"
      ]
    },
    {
      "cell_type": "code",
      "execution_count": 2,
      "metadata": {
        "colab": {
          "base_uri": "https://localhost:8080/"
        },
        "id": "jGCvTS91OLQ1",
        "outputId": "076013e3-88ed-4e27-c425-426cb82e3923"
      },
      "outputs": [
        {
          "output_type": "stream",
          "name": "stdout",
          "text": [
            "Lütfen bir metin girin: ben geçen günlerde müzik dinliyorum ve sonrasında futbol oynadı sonrasında basketbol lynadım \n",
            "Girilen metin 'Siyaset' konusu ile ilişkilendirilmektedir.\n"
          ]
        }
      ],
      "source": [
        "def konulari_yukle(dosya_adi):\n",
        "    konular = {}\n",
        "    with open(dosya_adi, 'r', encoding='utf-8') as dosya:\n",
        "        for satir in dosya:\n",
        "            konu, kelimeler = satir.strip().split(':')\n",
        "            konular[konu.strip()] = [kelime.strip() for kelime in kelimeler.split(',')]\n",
        "    return konular\n",
        "\n",
        "def belirle_konu(metin, konular):\n",
        "    # Metni küçük harfe çevir\n",
        "    metin = metin.lower()\n",
        "\n",
        "    # Her konu için anahtar kelimeleri kontrol et\n",
        "    for konu, anahtar_kelime in konular.items():\n",
        "        for kelime in anahtar_kelime:\n",
        "            if kelime in metin:\n",
        "                return konu\n",
        "\n",
        "    # Hiçbir konu ile ilişkilendirilemiyorsa \"diğer konular\" döndür\n",
        "    return \"Diğer konular\"\n",
        "\n",
        "# Konuları dosyadan yükle\n",
        "konular = konulari_yukle('konular.txt')\n",
        "\n",
        "# Kullanıcıdan metin girişi alma\n",
        "girdi = input(\"Lütfen bir metin girin: \")\n",
        "sonuc = belirle_konu(girdi, konular)\n",
        "print(f\"Girilen metin '{sonuc}' konusu ile ilişkilendirilmektedir.\")0*"
      ]
    }
  ]
}