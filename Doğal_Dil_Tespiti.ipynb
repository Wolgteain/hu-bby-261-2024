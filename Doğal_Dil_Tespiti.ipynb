{
  "nbformat": 4,
  "nbformat_minor": 0,
  "metadata": {
    "colab": {
      "provenance": [],
      "mount_file_id": "122RHBL4h9H6tXS2kT6_bLJg_6QeHnYwn",
      "authorship_tag": "ABX9TyOCnVPmKn/he7ybHgBBY8MF",
      "include_colab_link": true
    },
    "kernelspec": {
      "name": "python3",
      "display_name": "Python 3"
    },
    "language_info": {
      "name": "python"
    }
  },
  "cells": [
    {
      "cell_type": "markdown",
      "metadata": {
        "id": "view-in-github",
        "colab_type": "text"
      },
      "source": [
        "<a href=\"https://colab.research.google.com/github/Wolgteain/hu-bby-261-2024/blob/main/Do%C4%9Fal_Dil_Tespiti.ipynb\" target=\"_parent\"><img src=\"https://colab.research.google.com/assets/colab-badge.svg\" alt=\"Open In Colab\"/></a>"
      ]
    },
    {
      "cell_type": "code",
      "execution_count": 9,
      "metadata": {
        "colab": {
          "base_uri": "https://localhost:8080/"
        },
        "id": "EWL6vki6PRG7",
        "outputId": "b0e00b6a-4328-4eb5-a2a2-ff082fdaeffa"
      },
      "outputs": [
        {
          "output_type": "stream",
          "name": "stdout",
          "text": [
            "Metni giriniz: ı am fourty years old.\n",
            "Tespit edilen dil: Dil tespit edilemedi.\n"
          ]
        }
      ],
      "source": [
        "def load_language_keywords(file_path):\n",
        "    language_keywords = {}\n",
        "    with open(file_path, 'r', encoding='utf-8') as file:\n",
        "        for line in file:\n",
        "            # Satırı dil ve kelimelere ayır\n",
        "            lang, keywords = line.strip().split(':')\n",
        "            # Anahtar kelimeleri liste haline getir ve sözlüğe ekle\n",
        "            language_keywords[lang.strip()] = [word.strip() for word in keywords.split(',')]\n",
        "    return language_keywords\n",
        "\n",
        "def detect_language(text, language_keywords):\n",
        "    # Metni küçük harfe çevir\n",
        "    text = text.lower()\n",
        "\n",
        "    # Dillerin kelime sayımını tutmak için bir sözlük oluştur\n",
        "    language_count = {lang: 0 for lang in language_keywords.keys()}\n",
        "\n",
        "    # Metindeki kelimeleri ayır\n",
        "    words = text.split()\n",
        "\n",
        "    # Her kelimeyi kontrol et\n",
        "    for word in words:\n",
        "        for lang, keywords in language_keywords.items():\n",
        "            if word in keywords:\n",
        "                language_count[lang] += 1\n",
        "\n",
        "    # En yüksek sayıya sahip dili bul\n",
        "    detected_language = max(language_count, key=language_count.get)\n",
        "\n",
        "    # Eğer en yüksek sayı 0 ise, dil tespit edilemedi\n",
        "    if language_count[detected_language] == 0:\n",
        "        return \"Dil tespit edilemedi.\"\n",
        "\n",
        "    return detected_language\n",
        "\n",
        "# Ana program\n",
        "file_path = 'languages.txt'  # Kelimelerin bulunduğu dosyanın yolu\n",
        "language_keywords = load_language_keywords(file_path)\n",
        "\n",
        "# Kullanıcıdan metin al\n",
        "input_text = input(\"Metni giriniz: \")\n",
        "\n",
        "# Dil tespitini yap\n",
        "result = detect_language(input_text, language_keywords)\n",
        "\n",
        "# Sonucu yazdır\n",
        "print(\"Tespit edilen dil:\", result)"
      ]
    }
  ]
}